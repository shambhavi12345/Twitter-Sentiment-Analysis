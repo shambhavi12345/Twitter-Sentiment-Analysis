{
 "cells": [
  {
   "cell_type": "markdown",
   "id": "4d9093ea",
   "metadata": {},
   "source": [
    "# TWITTER SENTIMENT ANALYSIS "
   ]
  },
  {
   "cell_type": "markdown",
   "id": "fdca3692",
   "metadata": {},
   "source": [
    "### IMPORTING THE REQUIRED PACKAGES AND MODULES"
   ]
  },
  {
   "cell_type": "code",
   "execution_count": 2,
   "id": "11aa0358",
   "metadata": {},
   "outputs": [],
   "source": [
    "import pandas as pd              #for data analysis and basic operations\n",
    "import numpy as np               #for data analysis and basic operations\n",
    "import re                        #for regex\n",
    "import seaborn as sns            #for data visualisation\n",
    "import matplotlib.pyplot as plt  #for data visualisation\n",
    "from matplotlib import style     #style for the plot\n",
    "style.use('ggplot')\n",
    "from textblob import TextBlob                    #process the textual data\n",
    "from nltk.tokenize import word_tokenize          #for tokenization\n",
    "from nltk.stem import PorterStemmer              #for stemming\n",
    "from nltk.corpus import stopwords                #to remove stopwords\n",
    "stop_words = set(stopwords.words('english'))\n",
    "from sklearn.feature_extraction.text import CountVectorizer                          #to vectorize the text document\n",
    "from sklearn.model_selection import train_test_split                                 #to split the data into training and testing data\n",
    "from sklearn.linear_model import LogisticRegression                                  #to perform logistic regression\n",
    "from sklearn.metrics import classification_report, accuracy_score, confusion_matrix, ConfusionMatrixDisplay # for evaluating accuracy and displaying matrix for evaluating the model"
   ]
  },
  {
   "cell_type": "raw",
   "id": "c9448314",
   "metadata": {},
   "source": []
  },
  {
   "cell_type": "markdown",
   "id": "e9361d3c",
   "metadata": {},
   "source": [
    "### READING  AND DISPLAYING THE DATASET"
   ]
  },
  {
   "cell_type": "code",
   "execution_count": 3,
   "id": "d8f5c3db",
   "metadata": {},
   "outputs": [],
   "source": [
    "df = pd.read_csv('LGBT_Tweets.csv')"
   ]
  },
  {
   "cell_type": "code",
   "execution_count": 4,
   "id": "b6b44cd0",
   "metadata": {},
   "outputs": [
    {
     "data": {
      "text/html": [
       "<div>\n",
       "<style scoped>\n",
       "    .dataframe tbody tr th:only-of-type {\n",
       "        vertical-align: middle;\n",
       "    }\n",
       "\n",
       "    .dataframe tbody tr th {\n",
       "        vertical-align: top;\n",
       "    }\n",
       "\n",
       "    .dataframe thead th {\n",
       "        text-align: right;\n",
       "    }\n",
       "</style>\n",
       "<table border=\"1\" class=\"dataframe\">\n",
       "  <thead>\n",
       "    <tr style=\"text-align: right;\">\n",
       "      <th></th>\n",
       "      <th>Unnamed: 0</th>\n",
       "      <th>date</th>\n",
       "      <th>time</th>\n",
       "      <th>id</th>\n",
       "      <th>text</th>\n",
       "      <th>language</th>\n",
       "      <th>replies_count</th>\n",
       "      <th>retweets_count</th>\n",
       "      <th>likes_count</th>\n",
       "    </tr>\n",
       "  </thead>\n",
       "  <tbody>\n",
       "    <tr>\n",
       "      <th>0</th>\n",
       "      <td>0</td>\n",
       "      <td>26-08-2022</td>\n",
       "      <td>10.31.10</td>\n",
       "      <td>1.562990e+18</td>\n",
       "      <td>Praying for my lgbt Nigerians 🙏🏽🙏🏽🙏🏽</td>\n",
       "      <td>en</td>\n",
       "      <td>0</td>\n",
       "      <td>0</td>\n",
       "      <td>0</td>\n",
       "    </tr>\n",
       "    <tr>\n",
       "      <th>1</th>\n",
       "      <td>1</td>\n",
       "      <td>26-08-2022</td>\n",
       "      <td>10.31.02</td>\n",
       "      <td>1.562990e+18</td>\n",
       "      <td>@yanmisamm So pass agg omg you really are lgbt</td>\n",
       "      <td>en</td>\n",
       "      <td>0</td>\n",
       "      <td>0</td>\n",
       "      <td>0</td>\n",
       "    </tr>\n",
       "    <tr>\n",
       "      <th>2</th>\n",
       "      <td>3</td>\n",
       "      <td>26-08-2022</td>\n",
       "      <td>10.30.59</td>\n",
       "      <td>1.562990e+18</td>\n",
       "      <td>@ChampionExcel @watokohom @MrAndyNgo @football...</td>\n",
       "      <td>en</td>\n",
       "      <td>0</td>\n",
       "      <td>0</td>\n",
       "      <td>0</td>\n",
       "    </tr>\n",
       "    <tr>\n",
       "      <th>3</th>\n",
       "      <td>7</td>\n",
       "      <td>26-08-2022</td>\n",
       "      <td>10.30.34</td>\n",
       "      <td>1.562990e+18</td>\n",
       "      <td>To be clear it doesn't justify what the LGBT c...</td>\n",
       "      <td>en</td>\n",
       "      <td>0</td>\n",
       "      <td>0</td>\n",
       "      <td>0</td>\n",
       "    </tr>\n",
       "    <tr>\n",
       "      <th>4</th>\n",
       "      <td>10</td>\n",
       "      <td>26-08-2022</td>\n",
       "      <td>10.30.24</td>\n",
       "      <td>1.562990e+18</td>\n",
       "      <td>good night lgbt community  https://t.co/0PAMOU...</td>\n",
       "      <td>en</td>\n",
       "      <td>1</td>\n",
       "      <td>0</td>\n",
       "      <td>2</td>\n",
       "    </tr>\n",
       "    <tr>\n",
       "      <th>5</th>\n",
       "      <td>12</td>\n",
       "      <td>26-08-2022</td>\n",
       "      <td>10.30.21</td>\n",
       "      <td>1.562990e+18</td>\n",
       "      <td>Hello guys Im Japanese Filipino who does singi...</td>\n",
       "      <td>en</td>\n",
       "      <td>0</td>\n",
       "      <td>0</td>\n",
       "      <td>0</td>\n",
       "    </tr>\n",
       "    <tr>\n",
       "      <th>6</th>\n",
       "      <td>13</td>\n",
       "      <td>26-08-2022</td>\n",
       "      <td>10.30.17</td>\n",
       "      <td>1.562990e+18</td>\n",
       "      <td>@SmokeySmoker @Nope_Im_Outski @FOX5Vegas BLM a...</td>\n",
       "      <td>en</td>\n",
       "      <td>0</td>\n",
       "      <td>0</td>\n",
       "      <td>0</td>\n",
       "    </tr>\n",
       "    <tr>\n",
       "      <th>7</th>\n",
       "      <td>15</td>\n",
       "      <td>26-08-2022</td>\n",
       "      <td>10.30.12</td>\n",
       "      <td>1.562990e+18</td>\n",
       "      <td>it's not illegal to be gay in Russia, it's ill...</td>\n",
       "      <td>en</td>\n",
       "      <td>0</td>\n",
       "      <td>0</td>\n",
       "      <td>0</td>\n",
       "    </tr>\n",
       "    <tr>\n",
       "      <th>8</th>\n",
       "      <td>16</td>\n",
       "      <td>26-08-2022</td>\n",
       "      <td>10.30.09</td>\n",
       "      <td>1.562990e+18</td>\n",
       "      <td>About 120 asylum-seekers who are members of th...</td>\n",
       "      <td>en</td>\n",
       "      <td>0</td>\n",
       "      <td>0</td>\n",
       "      <td>0</td>\n",
       "    </tr>\n",
       "    <tr>\n",
       "      <th>9</th>\n",
       "      <td>18</td>\n",
       "      <td>26-08-2022</td>\n",
       "      <td>10.29.57</td>\n",
       "      <td>1.562990e+18</td>\n",
       "      <td>@URaBold1 v true &amp;amp; it makes it extra insid...</td>\n",
       "      <td>en</td>\n",
       "      <td>0</td>\n",
       "      <td>0</td>\n",
       "      <td>0</td>\n",
       "    </tr>\n",
       "    <tr>\n",
       "      <th>10</th>\n",
       "      <td>31</td>\n",
       "      <td>26-08-2022</td>\n",
       "      <td>10.28.48</td>\n",
       "      <td>1.562990e+18</td>\n",
       "      <td>pose the most lgbt song they have  https://t.c...</td>\n",
       "      <td>en</td>\n",
       "      <td>0</td>\n",
       "      <td>0</td>\n",
       "      <td>0</td>\n",
       "    </tr>\n",
       "    <tr>\n",
       "      <th>11</th>\n",
       "      <td>37</td>\n",
       "      <td>26-08-2022</td>\n",
       "      <td>10.27.57</td>\n",
       "      <td>1.562990e+18</td>\n",
       "      <td>@liddle_lefty I personally don't know what els...</td>\n",
       "      <td>en</td>\n",
       "      <td>0</td>\n",
       "      <td>0</td>\n",
       "      <td>0</td>\n",
       "    </tr>\n",
       "    <tr>\n",
       "      <th>12</th>\n",
       "      <td>44</td>\n",
       "      <td>26-08-2022</td>\n",
       "      <td>10.27.37</td>\n",
       "      <td>1.562990e+18</td>\n",
       "      <td>\"...and guaranteeing there is functioning heat...</td>\n",
       "      <td>en</td>\n",
       "      <td>0</td>\n",
       "      <td>0</td>\n",
       "      <td>0</td>\n",
       "    </tr>\n",
       "    <tr>\n",
       "      <th>13</th>\n",
       "      <td>47</td>\n",
       "      <td>26-08-2022</td>\n",
       "      <td>10.27.18</td>\n",
       "      <td>1.562990e+18</td>\n",
       "      <td>goes on instagram. sees story about man who wa...</td>\n",
       "      <td>en</td>\n",
       "      <td>1</td>\n",
       "      <td>0</td>\n",
       "      <td>0</td>\n",
       "    </tr>\n",
       "    <tr>\n",
       "      <th>14</th>\n",
       "      <td>55</td>\n",
       "      <td>26-08-2022</td>\n",
       "      <td>10.26.29</td>\n",
       "      <td>1.562990e+18</td>\n",
       "      <td>08/26/22 edition of my daily two-minute talk r...</td>\n",
       "      <td>en</td>\n",
       "      <td>0</td>\n",
       "      <td>0</td>\n",
       "      <td>0</td>\n",
       "    </tr>\n",
       "    <tr>\n",
       "      <th>15</th>\n",
       "      <td>58</td>\n",
       "      <td>26-08-2022</td>\n",
       "      <td>10.26.25</td>\n",
       "      <td>1.562990e+18</td>\n",
       "      <td>@SmugKaiSupreme ur like megashadowbanned btw  ...</td>\n",
       "      <td>en</td>\n",
       "      <td>1</td>\n",
       "      <td>0</td>\n",
       "      <td>0</td>\n",
       "    </tr>\n",
       "    <tr>\n",
       "      <th>16</th>\n",
       "      <td>65</td>\n",
       "      <td>26-08-2022</td>\n",
       "      <td>10.26.15</td>\n",
       "      <td>1.562990e+18</td>\n",
       "      <td>@BryanT3000 @PinkDotSG i agree it’s a frustrat...</td>\n",
       "      <td>en</td>\n",
       "      <td>0</td>\n",
       "      <td>0</td>\n",
       "      <td>0</td>\n",
       "    </tr>\n",
       "    <tr>\n",
       "      <th>17</th>\n",
       "      <td>66</td>\n",
       "      <td>26-08-2022</td>\n",
       "      <td>10.26.08</td>\n",
       "      <td>1.562990e+18</td>\n",
       "      <td>@liddle_lefty We don't know how many japanese ...</td>\n",
       "      <td>en</td>\n",
       "      <td>1</td>\n",
       "      <td>0</td>\n",
       "      <td>0</td>\n",
       "    </tr>\n",
       "    <tr>\n",
       "      <th>18</th>\n",
       "      <td>71</td>\n",
       "      <td>26-08-2022</td>\n",
       "      <td>10.25.37</td>\n",
       "      <td>1.562990e+18</td>\n",
       "      <td>My political positions: Abortion: Lean D LGBT ...</td>\n",
       "      <td>en</td>\n",
       "      <td>0</td>\n",
       "      <td>1</td>\n",
       "      <td>1</td>\n",
       "    </tr>\n",
       "    <tr>\n",
       "      <th>19</th>\n",
       "      <td>75</td>\n",
       "      <td>26-08-2022</td>\n",
       "      <td>10.25.28</td>\n",
       "      <td>1.562990e+18</td>\n",
       "      <td>My political positions:  Abortion: Safe R LGBT...</td>\n",
       "      <td>en</td>\n",
       "      <td>1</td>\n",
       "      <td>0</td>\n",
       "      <td>0</td>\n",
       "    </tr>\n",
       "  </tbody>\n",
       "</table>\n",
       "</div>"
      ],
      "text/plain": [
       "    Unnamed: 0        date      time            id  \\\n",
       "0            0  26-08-2022  10.31.10  1.562990e+18   \n",
       "1            1  26-08-2022  10.31.02  1.562990e+18   \n",
       "2            3  26-08-2022  10.30.59  1.562990e+18   \n",
       "3            7  26-08-2022  10.30.34  1.562990e+18   \n",
       "4           10  26-08-2022  10.30.24  1.562990e+18   \n",
       "5           12  26-08-2022  10.30.21  1.562990e+18   \n",
       "6           13  26-08-2022  10.30.17  1.562990e+18   \n",
       "7           15  26-08-2022  10.30.12  1.562990e+18   \n",
       "8           16  26-08-2022  10.30.09  1.562990e+18   \n",
       "9           18  26-08-2022  10.29.57  1.562990e+18   \n",
       "10          31  26-08-2022  10.28.48  1.562990e+18   \n",
       "11          37  26-08-2022  10.27.57  1.562990e+18   \n",
       "12          44  26-08-2022  10.27.37  1.562990e+18   \n",
       "13          47  26-08-2022  10.27.18  1.562990e+18   \n",
       "14          55  26-08-2022  10.26.29  1.562990e+18   \n",
       "15          58  26-08-2022  10.26.25  1.562990e+18   \n",
       "16          65  26-08-2022  10.26.15  1.562990e+18   \n",
       "17          66  26-08-2022  10.26.08  1.562990e+18   \n",
       "18          71  26-08-2022  10.25.37  1.562990e+18   \n",
       "19          75  26-08-2022  10.25.28  1.562990e+18   \n",
       "\n",
       "                                                 text language  replies_count  \\\n",
       "0                Praying for my lgbt Nigerians 🙏🏽🙏🏽🙏🏽       en              0   \n",
       "1      @yanmisamm So pass agg omg you really are lgbt       en              0   \n",
       "2   @ChampionExcel @watokohom @MrAndyNgo @football...       en              0   \n",
       "3   To be clear it doesn't justify what the LGBT c...       en              0   \n",
       "4   good night lgbt community  https://t.co/0PAMOU...       en              1   \n",
       "5   Hello guys Im Japanese Filipino who does singi...       en              0   \n",
       "6   @SmokeySmoker @Nope_Im_Outski @FOX5Vegas BLM a...       en              0   \n",
       "7   it's not illegal to be gay in Russia, it's ill...       en              0   \n",
       "8   About 120 asylum-seekers who are members of th...       en              0   \n",
       "9   @URaBold1 v true &amp; it makes it extra insid...       en              0   \n",
       "10  pose the most lgbt song they have  https://t.c...       en              0   \n",
       "11  @liddle_lefty I personally don't know what els...       en              0   \n",
       "12  \"...and guaranteeing there is functioning heat...       en              0   \n",
       "13  goes on instagram. sees story about man who wa...       en              1   \n",
       "14  08/26/22 edition of my daily two-minute talk r...       en              0   \n",
       "15  @SmugKaiSupreme ur like megashadowbanned btw  ...       en              1   \n",
       "16  @BryanT3000 @PinkDotSG i agree it’s a frustrat...       en              0   \n",
       "17  @liddle_lefty We don't know how many japanese ...       en              1   \n",
       "18  My political positions: Abortion: Lean D LGBT ...       en              0   \n",
       "19  My political positions:  Abortion: Safe R LGBT...       en              1   \n",
       "\n",
       "    retweets_count  likes_count  \n",
       "0                0            0  \n",
       "1                0            0  \n",
       "2                0            0  \n",
       "3                0            0  \n",
       "4                0            2  \n",
       "5                0            0  \n",
       "6                0            0  \n",
       "7                0            0  \n",
       "8                0            0  \n",
       "9                0            0  \n",
       "10               0            0  \n",
       "11               0            0  \n",
       "12               0            0  \n",
       "13               0            0  \n",
       "14               0            0  \n",
       "15               0            0  \n",
       "16               0            0  \n",
       "17               0            0  \n",
       "18               1            1  \n",
       "19               0            0  "
      ]
     },
     "execution_count": 4,
     "metadata": {},
     "output_type": "execute_result"
    }
   ],
   "source": [
    "df.head(20)"
   ]
  },
  {
   "cell_type": "code",
   "execution_count": 5,
   "id": "b6d3b893",
   "metadata": {},
   "outputs": [
    {
     "name": "stdout",
     "output_type": "stream",
     "text": [
      "<class 'pandas.core.frame.DataFrame'>\n",
      "RangeIndex: 32456 entries, 0 to 32455\n",
      "Data columns (total 9 columns):\n",
      " #   Column          Non-Null Count  Dtype  \n",
      "---  ------          --------------  -----  \n",
      " 0   Unnamed: 0      32456 non-null  int64  \n",
      " 1   date            32456 non-null  object \n",
      " 2   time            32456 non-null  object \n",
      " 3   id              32456 non-null  float64\n",
      " 4   text            32456 non-null  object \n",
      " 5   language        32456 non-null  object \n",
      " 6   replies_count   32456 non-null  int64  \n",
      " 7   retweets_count  32456 non-null  int64  \n",
      " 8   likes_count     32456 non-null  int64  \n",
      "dtypes: float64(1), int64(4), object(4)\n",
      "memory usage: 2.2+ MB\n"
     ]
    }
   ],
   "source": [
    "df.info()          #to describe the dataset"
   ]
  },
  {
   "cell_type": "code",
   "execution_count": 6,
   "id": "1dcc273e",
   "metadata": {},
   "outputs": [
    {
     "data": {
      "text/plain": [
       "Index(['Unnamed: 0', 'date', 'time', 'id', 'text', 'language', 'replies_count',\n",
       "       'retweets_count', 'likes_count'],\n",
       "      dtype='object')"
      ]
     },
     "execution_count": 6,
     "metadata": {},
     "output_type": "execute_result"
    }
   ],
   "source": [
    "df.columns        #to obtain the column names"
   ]
  },
  {
   "cell_type": "raw",
   "id": "fc03c497",
   "metadata": {},
   "source": []
  },
  {
   "cell_type": "markdown",
   "id": "64aec0a7",
   "metadata": {},
   "source": [
    "### CREATING A NEW DATAFRAME FOR TWEETS"
   ]
  },
  {
   "cell_type": "code",
   "execution_count": 7,
   "id": "36c21569",
   "metadata": {},
   "outputs": [
    {
     "data": {
      "text/html": [
       "<div>\n",
       "<style scoped>\n",
       "    .dataframe tbody tr th:only-of-type {\n",
       "        vertical-align: middle;\n",
       "    }\n",
       "\n",
       "    .dataframe tbody tr th {\n",
       "        vertical-align: top;\n",
       "    }\n",
       "\n",
       "    .dataframe thead th {\n",
       "        text-align: right;\n",
       "    }\n",
       "</style>\n",
       "<table border=\"1\" class=\"dataframe\">\n",
       "  <thead>\n",
       "    <tr style=\"text-align: right;\">\n",
       "      <th></th>\n",
       "      <th>text</th>\n",
       "    </tr>\n",
       "  </thead>\n",
       "  <tbody>\n",
       "    <tr>\n",
       "      <th>0</th>\n",
       "      <td>Praying for my lgbt Nigerians 🙏🏽🙏🏽🙏🏽</td>\n",
       "    </tr>\n",
       "    <tr>\n",
       "      <th>1</th>\n",
       "      <td>@yanmisamm So pass agg omg you really are lgbt</td>\n",
       "    </tr>\n",
       "    <tr>\n",
       "      <th>2</th>\n",
       "      <td>@ChampionExcel @watokohom @MrAndyNgo @football...</td>\n",
       "    </tr>\n",
       "    <tr>\n",
       "      <th>3</th>\n",
       "      <td>To be clear it doesn't justify what the LGBT c...</td>\n",
       "    </tr>\n",
       "    <tr>\n",
       "      <th>4</th>\n",
       "      <td>good night lgbt community  https://t.co/0PAMOU...</td>\n",
       "    </tr>\n",
       "    <tr>\n",
       "      <th>5</th>\n",
       "      <td>Hello guys Im Japanese Filipino who does singi...</td>\n",
       "    </tr>\n",
       "    <tr>\n",
       "      <th>6</th>\n",
       "      <td>@SmokeySmoker @Nope_Im_Outski @FOX5Vegas BLM a...</td>\n",
       "    </tr>\n",
       "    <tr>\n",
       "      <th>7</th>\n",
       "      <td>it's not illegal to be gay in Russia, it's ill...</td>\n",
       "    </tr>\n",
       "    <tr>\n",
       "      <th>8</th>\n",
       "      <td>About 120 asylum-seekers who are members of th...</td>\n",
       "    </tr>\n",
       "    <tr>\n",
       "      <th>9</th>\n",
       "      <td>@URaBold1 v true &amp;amp; it makes it extra insid...</td>\n",
       "    </tr>\n",
       "    <tr>\n",
       "      <th>10</th>\n",
       "      <td>pose the most lgbt song they have  https://t.c...</td>\n",
       "    </tr>\n",
       "    <tr>\n",
       "      <th>11</th>\n",
       "      <td>@liddle_lefty I personally don't know what els...</td>\n",
       "    </tr>\n",
       "    <tr>\n",
       "      <th>12</th>\n",
       "      <td>\"...and guaranteeing there is functioning heat...</td>\n",
       "    </tr>\n",
       "    <tr>\n",
       "      <th>13</th>\n",
       "      <td>goes on instagram. sees story about man who wa...</td>\n",
       "    </tr>\n",
       "    <tr>\n",
       "      <th>14</th>\n",
       "      <td>08/26/22 edition of my daily two-minute talk r...</td>\n",
       "    </tr>\n",
       "    <tr>\n",
       "      <th>15</th>\n",
       "      <td>@SmugKaiSupreme ur like megashadowbanned btw  ...</td>\n",
       "    </tr>\n",
       "    <tr>\n",
       "      <th>16</th>\n",
       "      <td>@BryanT3000 @PinkDotSG i agree it’s a frustrat...</td>\n",
       "    </tr>\n",
       "    <tr>\n",
       "      <th>17</th>\n",
       "      <td>@liddle_lefty We don't know how many japanese ...</td>\n",
       "    </tr>\n",
       "    <tr>\n",
       "      <th>18</th>\n",
       "      <td>My political positions: Abortion: Lean D LGBT ...</td>\n",
       "    </tr>\n",
       "    <tr>\n",
       "      <th>19</th>\n",
       "      <td>My political positions:  Abortion: Safe R LGBT...</td>\n",
       "    </tr>\n",
       "  </tbody>\n",
       "</table>\n",
       "</div>"
      ],
      "text/plain": [
       "                                                 text\n",
       "0                Praying for my lgbt Nigerians 🙏🏽🙏🏽🙏🏽\n",
       "1      @yanmisamm So pass agg omg you really are lgbt\n",
       "2   @ChampionExcel @watokohom @MrAndyNgo @football...\n",
       "3   To be clear it doesn't justify what the LGBT c...\n",
       "4   good night lgbt community  https://t.co/0PAMOU...\n",
       "5   Hello guys Im Japanese Filipino who does singi...\n",
       "6   @SmokeySmoker @Nope_Im_Outski @FOX5Vegas BLM a...\n",
       "7   it's not illegal to be gay in Russia, it's ill...\n",
       "8   About 120 asylum-seekers who are members of th...\n",
       "9   @URaBold1 v true &amp; it makes it extra insid...\n",
       "10  pose the most lgbt song they have  https://t.c...\n",
       "11  @liddle_lefty I personally don't know what els...\n",
       "12  \"...and guaranteeing there is functioning heat...\n",
       "13  goes on instagram. sees story about man who wa...\n",
       "14  08/26/22 edition of my daily two-minute talk r...\n",
       "15  @SmugKaiSupreme ur like megashadowbanned btw  ...\n",
       "16  @BryanT3000 @PinkDotSG i agree it’s a frustrat...\n",
       "17  @liddle_lefty We don't know how many japanese ...\n",
       "18  My political positions: Abortion: Lean D LGBT ...\n",
       "19  My political positions:  Abortion: Safe R LGBT..."
      ]
     },
     "execution_count": 7,
     "metadata": {},
     "output_type": "execute_result"
    }
   ],
   "source": [
    "text_df = df.drop(['Unnamed: 0', 'date', 'time', 'id', 'language', 'replies_count',\n",
    "       'retweets_count', 'likes_count'], axis=1) #drop all columns except the \"text\" column\n",
    "text_df.head(20)                                   #new dataframe"
   ]
  },
  {
   "cell_type": "code",
   "execution_count": 8,
   "id": "94114f49",
   "metadata": {},
   "outputs": [
    {
     "name": "stdout",
     "output_type": "stream",
     "text": [
      "Praying for my lgbt Nigerians 🙏🏽🙏🏽🙏🏽 \n",
      "\n",
      "@yanmisamm So pass agg omg you really are lgbt \n",
      "\n",
      "@ChampionExcel @watokohom @MrAndyNgo @football_56OL Many working in the media, Twitter and FB seem to which is why they have a problem with groomers being called out. Pretty soon they'll come out with a hit piece about these &amp; other pedo hunters, most likely linking them to the alt right or some BS about them being anti LGBT. \n",
      "\n",
      "To be clear it doesn't justify what the LGBT community behavior obviously but you have to ask what pushed them so far left in politics \n",
      "\n",
      "good night lgbt community  https://t.co/0PAMOUpXUz \n",
      "\n"
     ]
    }
   ],
   "source": [
    "print(text_df['text'].iloc[0],\"\\n\")   #analyse data in the \"text\" dataframe\n",
    "print(text_df['text'].iloc[1],\"\\n\")\n",
    "print(text_df['text'].iloc[2],\"\\n\")\n",
    "print(text_df['text'].iloc[3],\"\\n\")\n",
    "print(text_df['text'].iloc[4],\"\\n\")"
   ]
  },
  {
   "cell_type": "code",
   "execution_count": 9,
   "id": "47c7ce91",
   "metadata": {},
   "outputs": [
    {
     "name": "stdout",
     "output_type": "stream",
     "text": [
      "<class 'pandas.core.frame.DataFrame'>\n",
      "RangeIndex: 32456 entries, 0 to 32455\n",
      "Data columns (total 1 columns):\n",
      " #   Column  Non-Null Count  Dtype \n",
      "---  ------  --------------  ----- \n",
      " 0   text    32456 non-null  object\n",
      "dtypes: object(1)\n",
      "memory usage: 253.7+ KB\n"
     ]
    }
   ],
   "source": [
    "text_df.info() #to describe the new dataframe"
   ]
  },
  {
   "cell_type": "raw",
   "id": "045e6055",
   "metadata": {},
   "source": []
  },
  {
   "cell_type": "markdown",
   "id": "d16d2cc4",
   "metadata": {},
   "source": [
    "### CONVERSION OF RAW DATA TO USEFUL DATA"
   ]
  },
  {
   "cell_type": "code",
   "execution_count": 10,
   "id": "0d4fac9b",
   "metadata": {},
   "outputs": [],
   "source": [
    "def data_processing(text):            #to convert the raw data into usable format\n",
    "    text = text.lower()\n",
    "    text = re.sub(r\"https\\S+|www\\S+https\\S+\", '',text, flags=re.MULTILINE)  #remove URLs\n",
    "    text = re.sub(r'\\@w+|\\#','',text) #remove hashtags \n",
    "    text = re.sub(r'[^\\w\\s]','',text) #remove punctuation marks\n",
    "    text_tokens = word_tokenize(text) #remove stopwords\n",
    "    filtered_text = [w for w in text_tokens if not w in stop_words]\n",
    "    return \" \".join(filtered_text)"
   ]
  },
  {
   "cell_type": "code",
   "execution_count": 11,
   "id": "355903c5",
   "metadata": {},
   "outputs": [],
   "source": [
    "text_df.text = text_df['text'].apply(data_processing) "
   ]
  },
  {
   "cell_type": "code",
   "execution_count": 12,
   "id": "5b6cb6ff",
   "metadata": {},
   "outputs": [],
   "source": [
    "text_df = text_df.drop_duplicates('text')  #remove duplicate data"
   ]
  },
  {
   "cell_type": "raw",
   "id": "291a8952",
   "metadata": {},
   "source": []
  },
  {
   "cell_type": "markdown",
   "id": "4015ea76",
   "metadata": {},
   "source": [
    "### STEMMING "
   ]
  },
  {
   "cell_type": "code",
   "execution_count": 13,
   "id": "54b173aa",
   "metadata": {},
   "outputs": [],
   "source": [
    "stemmer = PorterStemmer()  #stemming for reducing tokenized words to their root form\n",
    "def stemming(data):\n",
    "    text = [stemmer.stem(word) for word in data]\n",
    "    return data"
   ]
  },
  {
   "cell_type": "code",
   "execution_count": 14,
   "id": "3eafd7e4",
   "metadata": {},
   "outputs": [],
   "source": [
    "text_df['text'] = text_df['text'].apply(lambda x: stemming(x)) #apply stemming to the processed data\n"
   ]
  },
  {
   "cell_type": "code",
   "execution_count": 15,
   "id": "fb4efaf1",
   "metadata": {},
   "outputs": [
    {
     "data": {
      "text/html": [
       "<div>\n",
       "<style scoped>\n",
       "    .dataframe tbody tr th:only-of-type {\n",
       "        vertical-align: middle;\n",
       "    }\n",
       "\n",
       "    .dataframe tbody tr th {\n",
       "        vertical-align: top;\n",
       "    }\n",
       "\n",
       "    .dataframe thead th {\n",
       "        text-align: right;\n",
       "    }\n",
       "</style>\n",
       "<table border=\"1\" class=\"dataframe\">\n",
       "  <thead>\n",
       "    <tr style=\"text-align: right;\">\n",
       "      <th></th>\n",
       "      <th>text</th>\n",
       "    </tr>\n",
       "  </thead>\n",
       "  <tbody>\n",
       "    <tr>\n",
       "      <th>0</th>\n",
       "      <td>praying lgbt nigerians</td>\n",
       "    </tr>\n",
       "    <tr>\n",
       "      <th>1</th>\n",
       "      <td>yanmisamm pass agg omg really lgbt</td>\n",
       "    </tr>\n",
       "    <tr>\n",
       "      <th>2</th>\n",
       "      <td>championexcel atokohom mrandyngo football_56ol...</td>\n",
       "    </tr>\n",
       "    <tr>\n",
       "      <th>3</th>\n",
       "      <td>clear doesnt justify lgbt community behavior o...</td>\n",
       "    </tr>\n",
       "    <tr>\n",
       "      <th>4</th>\n",
       "      <td>good night lgbt community</td>\n",
       "    </tr>\n",
       "    <tr>\n",
       "      <th>5</th>\n",
       "      <td>hello guys im japanese filipino singing living...</td>\n",
       "    </tr>\n",
       "    <tr>\n",
       "      <th>6</th>\n",
       "      <td>smokeysmoker nope_im_outski fox5vegas blm lgbt...</td>\n",
       "    </tr>\n",
       "    <tr>\n",
       "      <th>7</th>\n",
       "      <td>illegal gay russia illegal push lgbt propagand...</td>\n",
       "    </tr>\n",
       "    <tr>\n",
       "      <th>8</th>\n",
       "      <td>120 asylumseekers members lgbt community allow...</td>\n",
       "    </tr>\n",
       "    <tr>\n",
       "      <th>9</th>\n",
       "      <td>urabold1 v true amp makes extra insidious way ...</td>\n",
       "    </tr>\n",
       "    <tr>\n",
       "      <th>10</th>\n",
       "      <td>pose lgbt song</td>\n",
       "    </tr>\n",
       "    <tr>\n",
       "      <th>11</th>\n",
       "      <td>liddle_lefty personally dont know else would n...</td>\n",
       "    </tr>\n",
       "    <tr>\n",
       "      <th>12</th>\n",
       "      <td>guaranteeing functioning heating ventilation a...</td>\n",
       "    </tr>\n",
       "    <tr>\n",
       "      <th>13</th>\n",
       "      <td>goes instagram sees story man kiied colombia l...</td>\n",
       "    </tr>\n",
       "    <tr>\n",
       "      <th>14</th>\n",
       "      <td>082622 edition daily twominute talk radio feat...</td>\n",
       "    </tr>\n",
       "    <tr>\n",
       "      <th>15</th>\n",
       "      <td>smugkaisupreme ur like megashadowbanned btw fi...</td>\n",
       "    </tr>\n",
       "    <tr>\n",
       "      <th>16</th>\n",
       "      <td>bryant3000 pinkdotsg agree frustrating outcome...</td>\n",
       "    </tr>\n",
       "    <tr>\n",
       "      <th>17</th>\n",
       "      <td>liddle_lefty dont know many japanese asking se...</td>\n",
       "    </tr>\n",
       "    <tr>\n",
       "      <th>18</th>\n",
       "      <td>political positions abortion lean lgbt rights ...</td>\n",
       "    </tr>\n",
       "    <tr>\n",
       "      <th>19</th>\n",
       "      <td>political positions abortion safe r lgbt likel...</td>\n",
       "    </tr>\n",
       "  </tbody>\n",
       "</table>\n",
       "</div>"
      ],
      "text/plain": [
       "                                                 text\n",
       "0                              praying lgbt nigerians\n",
       "1                  yanmisamm pass agg omg really lgbt\n",
       "2   championexcel atokohom mrandyngo football_56ol...\n",
       "3   clear doesnt justify lgbt community behavior o...\n",
       "4                           good night lgbt community\n",
       "5   hello guys im japanese filipino singing living...\n",
       "6   smokeysmoker nope_im_outski fox5vegas blm lgbt...\n",
       "7   illegal gay russia illegal push lgbt propagand...\n",
       "8   120 asylumseekers members lgbt community allow...\n",
       "9   urabold1 v true amp makes extra insidious way ...\n",
       "10                                     pose lgbt song\n",
       "11  liddle_lefty personally dont know else would n...\n",
       "12  guaranteeing functioning heating ventilation a...\n",
       "13  goes instagram sees story man kiied colombia l...\n",
       "14  082622 edition daily twominute talk radio feat...\n",
       "15  smugkaisupreme ur like megashadowbanned btw fi...\n",
       "16  bryant3000 pinkdotsg agree frustrating outcome...\n",
       "17  liddle_lefty dont know many japanese asking se...\n",
       "18  political positions abortion lean lgbt rights ...\n",
       "19  political positions abortion safe r lgbt likel..."
      ]
     },
     "execution_count": 15,
     "metadata": {},
     "output_type": "execute_result"
    }
   ],
   "source": [
    "text_df.head(20)"
   ]
  },
  {
   "cell_type": "code",
   "execution_count": 16,
   "id": "1823cfd6",
   "metadata": {},
   "outputs": [
    {
     "name": "stdout",
     "output_type": "stream",
     "text": [
      "praying lgbt nigerians \n",
      "\n",
      "yanmisamm pass agg omg really lgbt \n",
      "\n",
      "championexcel atokohom mrandyngo football_56ol many working media twitter fb seem problem groomers called pretty soon theyll come hit piece amp pedo hunters likely linking alt right bs anti lgbt \n",
      "\n",
      "clear doesnt justify lgbt community behavior obviously ask pushed far left politics \n",
      "\n",
      "good night lgbt community \n",
      "\n"
     ]
    }
   ],
   "source": [
    "print(text_df['text'].iloc[0],\"\\n\") \n",
    "print(text_df['text'].iloc[1],\"\\n\")\n",
    "print(text_df['text'].iloc[2],\"\\n\")\n",
    "print(text_df['text'].iloc[3],\"\\n\")\n",
    "print(text_df['text'].iloc[4],\"\\n\")"
   ]
  },
  {
   "cell_type": "code",
   "execution_count": 17,
   "id": "b70d9a22",
   "metadata": {},
   "outputs": [
    {
     "name": "stdout",
     "output_type": "stream",
     "text": [
      "<class 'pandas.core.frame.DataFrame'>\n",
      "Int64Index: 30585 entries, 0 to 32455\n",
      "Data columns (total 1 columns):\n",
      " #   Column  Non-Null Count  Dtype \n",
      "---  ------  --------------  ----- \n",
      " 0   text    30585 non-null  object\n",
      "dtypes: object(1)\n",
      "memory usage: 477.9+ KB\n"
     ]
    }
   ],
   "source": [
    "text_df.info() #updated dataframe"
   ]
  },
  {
   "cell_type": "raw",
   "id": "bd861314",
   "metadata": {},
   "source": []
  },
  {
   "cell_type": "markdown",
   "id": "b8814751",
   "metadata": {},
   "source": [
    "### CALCULATING THE POLARITY"
   ]
  },
  {
   "cell_type": "code",
   "execution_count": 18,
   "id": "0be3d34d",
   "metadata": {},
   "outputs": [],
   "source": [
    "def polarity(text):                          #to calculate polarity using TextBlob\n",
    "    return TextBlob(text).sentiment.polarity"
   ]
  },
  {
   "cell_type": "code",
   "execution_count": 19,
   "id": "1583ad5b",
   "metadata": {},
   "outputs": [],
   "source": [
    "text_df['polarity'] = text_df['text'].apply(polarity)"
   ]
  },
  {
   "cell_type": "code",
   "execution_count": 20,
   "id": "78056307",
   "metadata": {},
   "outputs": [
    {
     "data": {
      "text/html": [
       "<div>\n",
       "<style scoped>\n",
       "    .dataframe tbody tr th:only-of-type {\n",
       "        vertical-align: middle;\n",
       "    }\n",
       "\n",
       "    .dataframe tbody tr th {\n",
       "        vertical-align: top;\n",
       "    }\n",
       "\n",
       "    .dataframe thead th {\n",
       "        text-align: right;\n",
       "    }\n",
       "</style>\n",
       "<table border=\"1\" class=\"dataframe\">\n",
       "  <thead>\n",
       "    <tr style=\"text-align: right;\">\n",
       "      <th></th>\n",
       "      <th>text</th>\n",
       "      <th>polarity</th>\n",
       "    </tr>\n",
       "  </thead>\n",
       "  <tbody>\n",
       "    <tr>\n",
       "      <th>0</th>\n",
       "      <td>praying lgbt nigerians</td>\n",
       "      <td>0.000000</td>\n",
       "    </tr>\n",
       "    <tr>\n",
       "      <th>1</th>\n",
       "      <td>yanmisamm pass agg omg really lgbt</td>\n",
       "      <td>0.200000</td>\n",
       "    </tr>\n",
       "    <tr>\n",
       "      <th>2</th>\n",
       "      <td>championexcel atokohom mrandyngo football_56ol...</td>\n",
       "      <td>0.258929</td>\n",
       "    </tr>\n",
       "    <tr>\n",
       "      <th>3</th>\n",
       "      <td>clear doesnt justify lgbt community behavior o...</td>\n",
       "      <td>0.050000</td>\n",
       "    </tr>\n",
       "    <tr>\n",
       "      <th>4</th>\n",
       "      <td>good night lgbt community</td>\n",
       "      <td>0.700000</td>\n",
       "    </tr>\n",
       "    <tr>\n",
       "      <th>5</th>\n",
       "      <td>hello guys im japanese filipino singing living...</td>\n",
       "      <td>0.480000</td>\n",
       "    </tr>\n",
       "    <tr>\n",
       "      <th>6</th>\n",
       "      <td>smokeysmoker nope_im_outski fox5vegas blm lgbt...</td>\n",
       "      <td>0.375000</td>\n",
       "    </tr>\n",
       "    <tr>\n",
       "      <th>7</th>\n",
       "      <td>illegal gay russia illegal push lgbt propagand...</td>\n",
       "      <td>-0.136667</td>\n",
       "    </tr>\n",
       "    <tr>\n",
       "      <th>8</th>\n",
       "      <td>120 asylumseekers members lgbt community allow...</td>\n",
       "      <td>0.000000</td>\n",
       "    </tr>\n",
       "    <tr>\n",
       "      <th>9</th>\n",
       "      <td>urabold1 v true amp makes extra insidious way ...</td>\n",
       "      <td>0.051667</td>\n",
       "    </tr>\n",
       "    <tr>\n",
       "      <th>10</th>\n",
       "      <td>pose lgbt song</td>\n",
       "      <td>0.000000</td>\n",
       "    </tr>\n",
       "    <tr>\n",
       "      <th>11</th>\n",
       "      <td>liddle_lefty personally dont know else would n...</td>\n",
       "      <td>0.062500</td>\n",
       "    </tr>\n",
       "    <tr>\n",
       "      <th>12</th>\n",
       "      <td>guaranteeing functioning heating ventilation a...</td>\n",
       "      <td>0.083333</td>\n",
       "    </tr>\n",
       "    <tr>\n",
       "      <th>13</th>\n",
       "      <td>goes instagram sees story man kiied colombia l...</td>\n",
       "      <td>0.000000</td>\n",
       "    </tr>\n",
       "    <tr>\n",
       "      <th>14</th>\n",
       "      <td>082622 edition daily twominute talk radio feat...</td>\n",
       "      <td>0.000000</td>\n",
       "    </tr>\n",
       "    <tr>\n",
       "      <th>15</th>\n",
       "      <td>smugkaisupreme ur like megashadowbanned btw fi...</td>\n",
       "      <td>-0.117778</td>\n",
       "    </tr>\n",
       "    <tr>\n",
       "      <th>16</th>\n",
       "      <td>bryant3000 pinkdotsg agree frustrating outcome...</td>\n",
       "      <td>-0.200000</td>\n",
       "    </tr>\n",
       "    <tr>\n",
       "      <th>17</th>\n",
       "      <td>liddle_lefty dont know many japanese asking se...</td>\n",
       "      <td>0.100000</td>\n",
       "    </tr>\n",
       "    <tr>\n",
       "      <th>18</th>\n",
       "      <td>political positions abortion lean lgbt rights ...</td>\n",
       "      <td>0.152273</td>\n",
       "    </tr>\n",
       "    <tr>\n",
       "      <th>19</th>\n",
       "      <td>political positions abortion safe r lgbt likel...</td>\n",
       "      <td>0.053571</td>\n",
       "    </tr>\n",
       "  </tbody>\n",
       "</table>\n",
       "</div>"
      ],
      "text/plain": [
       "                                                 text  polarity\n",
       "0                              praying lgbt nigerians  0.000000\n",
       "1                  yanmisamm pass agg omg really lgbt  0.200000\n",
       "2   championexcel atokohom mrandyngo football_56ol...  0.258929\n",
       "3   clear doesnt justify lgbt community behavior o...  0.050000\n",
       "4                           good night lgbt community  0.700000\n",
       "5   hello guys im japanese filipino singing living...  0.480000\n",
       "6   smokeysmoker nope_im_outski fox5vegas blm lgbt...  0.375000\n",
       "7   illegal gay russia illegal push lgbt propagand... -0.136667\n",
       "8   120 asylumseekers members lgbt community allow...  0.000000\n",
       "9   urabold1 v true amp makes extra insidious way ...  0.051667\n",
       "10                                     pose lgbt song  0.000000\n",
       "11  liddle_lefty personally dont know else would n...  0.062500\n",
       "12  guaranteeing functioning heating ventilation a...  0.083333\n",
       "13  goes instagram sees story man kiied colombia l...  0.000000\n",
       "14  082622 edition daily twominute talk radio feat...  0.000000\n",
       "15  smugkaisupreme ur like megashadowbanned btw fi... -0.117778\n",
       "16  bryant3000 pinkdotsg agree frustrating outcome... -0.200000\n",
       "17  liddle_lefty dont know many japanese asking se...  0.100000\n",
       "18  political positions abortion lean lgbt rights ...  0.152273\n",
       "19  political positions abortion safe r lgbt likel...  0.053571"
      ]
     },
     "execution_count": 20,
     "metadata": {},
     "output_type": "execute_result"
    }
   ],
   "source": [
    "text_df.head(20)"
   ]
  },
  {
   "cell_type": "raw",
   "id": "38104d3b",
   "metadata": {},
   "source": []
  },
  {
   "cell_type": "markdown",
   "id": "856698e0",
   "metadata": {},
   "source": [
    "### OBTAINING THE SENTIMENT LABEL FOR EACH TWEET"
   ]
  },
  {
   "cell_type": "code",
   "execution_count": 21,
   "id": "4501a027",
   "metadata": {},
   "outputs": [],
   "source": [
    "def sentiment(label):     #to define the sentiment of a particular tweet\n",
    "    if label <0:\n",
    "        return \"Negative\"\n",
    "    elif label ==0:\n",
    "        return \"Neutral\"\n",
    "    elif label>0:\n",
    "        return \"Positive\""
   ]
  },
  {
   "cell_type": "code",
   "execution_count": 22,
   "id": "5a5c7e4a",
   "metadata": {},
   "outputs": [],
   "source": [
    "text_df['sentiment'] = text_df['polarity'].apply(sentiment)"
   ]
  },
  {
   "cell_type": "code",
   "execution_count": 23,
   "id": "1f8e14ef",
   "metadata": {},
   "outputs": [
    {
     "data": {
      "text/html": [
       "<div>\n",
       "<style scoped>\n",
       "    .dataframe tbody tr th:only-of-type {\n",
       "        vertical-align: middle;\n",
       "    }\n",
       "\n",
       "    .dataframe tbody tr th {\n",
       "        vertical-align: top;\n",
       "    }\n",
       "\n",
       "    .dataframe thead th {\n",
       "        text-align: right;\n",
       "    }\n",
       "</style>\n",
       "<table border=\"1\" class=\"dataframe\">\n",
       "  <thead>\n",
       "    <tr style=\"text-align: right;\">\n",
       "      <th></th>\n",
       "      <th>text</th>\n",
       "      <th>polarity</th>\n",
       "      <th>sentiment</th>\n",
       "    </tr>\n",
       "  </thead>\n",
       "  <tbody>\n",
       "    <tr>\n",
       "      <th>0</th>\n",
       "      <td>praying lgbt nigerians</td>\n",
       "      <td>0.000000</td>\n",
       "      <td>Neutral</td>\n",
       "    </tr>\n",
       "    <tr>\n",
       "      <th>1</th>\n",
       "      <td>yanmisamm pass agg omg really lgbt</td>\n",
       "      <td>0.200000</td>\n",
       "      <td>Positive</td>\n",
       "    </tr>\n",
       "    <tr>\n",
       "      <th>2</th>\n",
       "      <td>championexcel atokohom mrandyngo football_56ol...</td>\n",
       "      <td>0.258929</td>\n",
       "      <td>Positive</td>\n",
       "    </tr>\n",
       "    <tr>\n",
       "      <th>3</th>\n",
       "      <td>clear doesnt justify lgbt community behavior o...</td>\n",
       "      <td>0.050000</td>\n",
       "      <td>Positive</td>\n",
       "    </tr>\n",
       "    <tr>\n",
       "      <th>4</th>\n",
       "      <td>good night lgbt community</td>\n",
       "      <td>0.700000</td>\n",
       "      <td>Positive</td>\n",
       "    </tr>\n",
       "    <tr>\n",
       "      <th>5</th>\n",
       "      <td>hello guys im japanese filipino singing living...</td>\n",
       "      <td>0.480000</td>\n",
       "      <td>Positive</td>\n",
       "    </tr>\n",
       "    <tr>\n",
       "      <th>6</th>\n",
       "      <td>smokeysmoker nope_im_outski fox5vegas blm lgbt...</td>\n",
       "      <td>0.375000</td>\n",
       "      <td>Positive</td>\n",
       "    </tr>\n",
       "    <tr>\n",
       "      <th>7</th>\n",
       "      <td>illegal gay russia illegal push lgbt propagand...</td>\n",
       "      <td>-0.136667</td>\n",
       "      <td>Negative</td>\n",
       "    </tr>\n",
       "    <tr>\n",
       "      <th>8</th>\n",
       "      <td>120 asylumseekers members lgbt community allow...</td>\n",
       "      <td>0.000000</td>\n",
       "      <td>Neutral</td>\n",
       "    </tr>\n",
       "    <tr>\n",
       "      <th>9</th>\n",
       "      <td>urabold1 v true amp makes extra insidious way ...</td>\n",
       "      <td>0.051667</td>\n",
       "      <td>Positive</td>\n",
       "    </tr>\n",
       "    <tr>\n",
       "      <th>10</th>\n",
       "      <td>pose lgbt song</td>\n",
       "      <td>0.000000</td>\n",
       "      <td>Neutral</td>\n",
       "    </tr>\n",
       "    <tr>\n",
       "      <th>11</th>\n",
       "      <td>liddle_lefty personally dont know else would n...</td>\n",
       "      <td>0.062500</td>\n",
       "      <td>Positive</td>\n",
       "    </tr>\n",
       "    <tr>\n",
       "      <th>12</th>\n",
       "      <td>guaranteeing functioning heating ventilation a...</td>\n",
       "      <td>0.083333</td>\n",
       "      <td>Positive</td>\n",
       "    </tr>\n",
       "    <tr>\n",
       "      <th>13</th>\n",
       "      <td>goes instagram sees story man kiied colombia l...</td>\n",
       "      <td>0.000000</td>\n",
       "      <td>Neutral</td>\n",
       "    </tr>\n",
       "    <tr>\n",
       "      <th>14</th>\n",
       "      <td>082622 edition daily twominute talk radio feat...</td>\n",
       "      <td>0.000000</td>\n",
       "      <td>Neutral</td>\n",
       "    </tr>\n",
       "    <tr>\n",
       "      <th>15</th>\n",
       "      <td>smugkaisupreme ur like megashadowbanned btw fi...</td>\n",
       "      <td>-0.117778</td>\n",
       "      <td>Negative</td>\n",
       "    </tr>\n",
       "    <tr>\n",
       "      <th>16</th>\n",
       "      <td>bryant3000 pinkdotsg agree frustrating outcome...</td>\n",
       "      <td>-0.200000</td>\n",
       "      <td>Negative</td>\n",
       "    </tr>\n",
       "    <tr>\n",
       "      <th>17</th>\n",
       "      <td>liddle_lefty dont know many japanese asking se...</td>\n",
       "      <td>0.100000</td>\n",
       "      <td>Positive</td>\n",
       "    </tr>\n",
       "    <tr>\n",
       "      <th>18</th>\n",
       "      <td>political positions abortion lean lgbt rights ...</td>\n",
       "      <td>0.152273</td>\n",
       "      <td>Positive</td>\n",
       "    </tr>\n",
       "    <tr>\n",
       "      <th>19</th>\n",
       "      <td>political positions abortion safe r lgbt likel...</td>\n",
       "      <td>0.053571</td>\n",
       "      <td>Positive</td>\n",
       "    </tr>\n",
       "  </tbody>\n",
       "</table>\n",
       "</div>"
      ],
      "text/plain": [
       "                                                 text  polarity sentiment\n",
       "0                              praying lgbt nigerians  0.000000   Neutral\n",
       "1                  yanmisamm pass agg omg really lgbt  0.200000  Positive\n",
       "2   championexcel atokohom mrandyngo football_56ol...  0.258929  Positive\n",
       "3   clear doesnt justify lgbt community behavior o...  0.050000  Positive\n",
       "4                           good night lgbt community  0.700000  Positive\n",
       "5   hello guys im japanese filipino singing living...  0.480000  Positive\n",
       "6   smokeysmoker nope_im_outski fox5vegas blm lgbt...  0.375000  Positive\n",
       "7   illegal gay russia illegal push lgbt propagand... -0.136667  Negative\n",
       "8   120 asylumseekers members lgbt community allow...  0.000000   Neutral\n",
       "9   urabold1 v true amp makes extra insidious way ...  0.051667  Positive\n",
       "10                                     pose lgbt song  0.000000   Neutral\n",
       "11  liddle_lefty personally dont know else would n...  0.062500  Positive\n",
       "12  guaranteeing functioning heating ventilation a...  0.083333  Positive\n",
       "13  goes instagram sees story man kiied colombia l...  0.000000   Neutral\n",
       "14  082622 edition daily twominute talk radio feat...  0.000000   Neutral\n",
       "15  smugkaisupreme ur like megashadowbanned btw fi... -0.117778  Negative\n",
       "16  bryant3000 pinkdotsg agree frustrating outcome... -0.200000  Negative\n",
       "17  liddle_lefty dont know many japanese asking se...  0.100000  Positive\n",
       "18  political positions abortion lean lgbt rights ...  0.152273  Positive\n",
       "19  political positions abortion safe r lgbt likel...  0.053571  Positive"
      ]
     },
     "execution_count": 23,
     "metadata": {},
     "output_type": "execute_result"
    }
   ],
   "source": [
    "text_df.head(20)"
   ]
  },
  {
   "cell_type": "raw",
   "id": "a3daabdd",
   "metadata": {},
   "source": []
  },
  {
   "cell_type": "markdown",
   "id": "7043ad85",
   "metadata": {},
   "source": [
    "### VISUALIZATION OF DATA USING COUNTPLOT AND PIE CHART"
   ]
  },
  {
   "cell_type": "code",
   "execution_count": 24,
   "id": "394ccbe3",
   "metadata": {},
   "outputs": [
    {
     "data": {
      "text/plain": [
       "<AxesSubplot:xlabel='sentiment', ylabel='count'>"
      ]
     },
     "execution_count": 24,
     "metadata": {},
     "output_type": "execute_result"
    },
    {
     "data": {
      "image/png": "[encoded data removed]",
      "text/plain": [
       "<Figure size 360x360 with 1 Axes>"
      ]
     },
     "metadata": {},
     "output_type": "display_data"
    }
   ],
   "source": [
    "fig = plt.figure(figsize=(5,5))                #data visualization using countplot\n",
    "sns.countplot(x='sentiment', data = text_df)"
   ]
  },
  {
   "cell_type": "code",
   "execution_count": 25,
   "id": "4f2ac642",
   "metadata": {},
   "outputs": [
    {
     "data": {
      "text/plain": [
       "Text(0.5, 1.0, '*** VISUALIZATION OF SENTIMENTS ***')"
      ]
     },
     "execution_count": 25,
     "metadata": {},
     "output_type": "execute_result"
    },
    {
     "data": {
      "image/png": "[encoded data removed]",
      "text/plain": [
       "<Figure size 504x504 with 1 Axes>"
      ]
     },
     "metadata": {},
     "output_type": "display_data"
    }
   ],
   "source": [
    "fig = plt.figure(figsize=(7,7))                #data visualization using pie chart\n",
    "colors = (\"pink\", \"turquoise\", \"gold\")\n",
    "wp = {'linewidth':2, 'edgecolor':\"black\"}\n",
    "tags = text_df['sentiment'].value_counts()\n",
    "explode = (0.1,0.1,0.1)\n",
    "tags.plot(kind='pie', autopct='%1.1f%%', shadow=True, colors = colors,startangle=90, wedgeprops = wp, explode = explode, label='')\n",
    "plt.title('*** VISUALIZATION OF SENTIMENTS ***')"
   ]
  },
  {
   "cell_type": "raw",
   "id": "0cc0fc5d",
   "metadata": {},
   "source": []
  },
  {
   "cell_type": "markdown",
   "id": "bbb00117",
   "metadata": {},
   "source": [
    "### BUILDING THE MODEL"
   ]
  },
  {
   "cell_type": "code",
   "execution_count": 26,
   "id": "332aaae5",
   "metadata": {},
   "outputs": [],
   "source": [
    "vect = CountVectorizer(ngram_range=(1,2)).fit(text_df['text'])  #count vectorization for the model"
   ]
  },
  {
   "cell_type": "code",
   "execution_count": 27,
   "id": "8a4bffd4",
   "metadata": {},
   "outputs": [
    {
     "name": "stdout",
     "output_type": "stream",
     "text": [
      "Total number of features are: 405708\n",
      "\n",
      "The first 30 features are:\n",
      " ['00', '00 correct', '000', '000 per', '000 size', '00s', '00s even', '00s internet', '00s lgbt', '00s mainstream', '00s wasnt', '00s yaoi', '01', '01 872', '01 actually', '01 albums', '01 lgbt', '01 lgbtq', '01 spider', '01000100', '01000100 01010010', '01000101', '01000101 01001110', '01000111', '01000111 01000101', '01001110', '01001110 01000100', '01010010', '01010010 lgbt', '01_victhor_01']\n"
     ]
    },
    {
     "name": "stderr",
     "output_type": "stream",
     "text": [
      "C:\\Users\\sihus\\anaconda3\\lib\\site-packages\\sklearn\\utils\\deprecation.py:87: FutureWarning: Function get_feature_names is deprecated; get_feature_names is deprecated in 1.0 and will be removed in 1.2. Please use get_feature_names_out instead.\n",
      "  warnings.warn(msg, category=FutureWarning)\n"
     ]
    }
   ],
   "source": [
    "feature_names = vect.get_feature_names()                        #get and print the first 30 features\n",
    "print(\"Total number of features are: {}\\n\".format(len(feature_names)))\n",
    "print(\"The first 30 features are:\\n {}\".format(feature_names[:30]))"
   ]
  },
  {
   "cell_type": "code",
   "execution_count": 28,
   "id": "e6951580",
   "metadata": {},
   "outputs": [],
   "source": [
    "X = text_df['text']                 #separation of data into x and y for transformation\n",
    "Y = text_df['sentiment']\n",
    "X = vect.transform(X)"
   ]
  },
  {
   "cell_type": "code",
   "execution_count": 29,
   "id": "569ea911",
   "metadata": {},
   "outputs": [],
   "source": [
    "#split the data into training and testing data\n",
    "\n",
    "x_train, x_test, y_train, y_test = train_test_split(X, Y, test_size=0.2, random_state=42)\n"
   ]
  },
  {
   "cell_type": "code",
   "execution_count": 30,
   "id": "9b290505",
   "metadata": {},
   "outputs": [
    {
     "name": "stdout",
     "output_type": "stream",
     "text": [
      "Size of x_train: (24468, 405708)\n",
      "Size of y_train: (24468,)\n",
      "Size of x_test: (6117, 405708)\n",
      "Size of y_test: (6117,)\n"
     ]
    }
   ],
   "source": [
    "#print the size of training and testing data\n",
    "\n",
    "print(\"Size of x_train:\", (x_train.shape))\n",
    "print(\"Size of y_train:\", (y_train.shape))\n",
    "\n",
    "print(\"Size of x_test:\", (x_test.shape))\n",
    "print(\"Size of y_test:\", (y_test.shape))"
   ]
  },
  {
   "cell_type": "code",
   "execution_count": 31,
   "id": "d3bf84ec",
   "metadata": {},
   "outputs": [],
   "source": [
    "#to get rid of warnings\n",
    "\n",
    "import warnings\n",
    "warnings.filterwarnings('ignore')"
   ]
  },
  {
   "cell_type": "raw",
   "id": "356ae5f8",
   "metadata": {},
   "source": []
  },
  {
   "cell_type": "markdown",
   "id": "71ed337d",
   "metadata": {},
   "source": [
    "### TRAINING THE MODEL"
   ]
  },
  {
   "cell_type": "code",
   "execution_count": 32,
   "id": "8ef7726d",
   "metadata": {},
   "outputs": [
    {
     "name": "stdout",
     "output_type": "stream",
     "text": [
      "Accuracy of the model is: 86.04%\n"
     ]
    }
   ],
   "source": [
    "#train the data on logicticregression model\n",
    "\n",
    "logreg = LogisticRegression()\n",
    "\n",
    "logreg.fit(x_train, y_train) #fit the data\n",
    "logreg_pred = logreg.predict(x_test) #predict the value for test data\n",
    "\n",
    "logreg_acc = accuracy_score(logreg_pred, y_test) #calculate the accuracy for the model\n",
    "print(\"Accuracy of the model is: {:.2f}%\".format(logreg_acc*100)) "
   ]
  },
  {
   "cell_type": "raw",
   "id": "946d4994",
   "metadata": {},
   "source": []
  },
  {
   "cell_type": "markdown",
   "id": "dd7b7c51",
   "metadata": {},
   "source": [
    "### OBTAINING THE CLASSIFICATION REPORT AND PRINTING THE RELEVANT CONFUSION MATRIX"
   ]
  },
  {
   "cell_type": "code",
   "execution_count": 33,
   "id": "020f0ffd",
   "metadata": {},
   "outputs": [
    {
     "data": {
      "text/plain": [
       "<sklearn.metrics._plot.confusion_matrix.ConfusionMatrixDisplay at 0x1213f3a1880>"
      ]
     },
     "execution_count": 33,
     "metadata": {},
     "output_type": "execute_result"
    },
    {
     "data": {
      "image/png": "[encoded data removed]",
      "text/plain": [
       "<Figure size 640x480 with 2 Axes>"
      ]
     },
     "metadata": {},
     "output_type": "display_data"
    }
   ],
   "source": [
    "#display the confusion matrix\n",
    "\n",
    "style.use('classic')\n",
    "cm = confusion_matrix(y_test, logreg_pred, labels=logreg.classes_)\n",
    "disp = ConfusionMatrixDisplay(confusion_matrix = cm, display_labels=logreg.classes_)\n",
    "disp.plot()"
   ]
  },
  {
   "cell_type": "code",
   "execution_count": 34,
   "id": "6711e5a0",
   "metadata": {},
   "outputs": [
    {
     "name": "stdout",
     "output_type": "stream",
     "text": [
      "[[1132  197  210]\n",
      " [  38 1568   75]\n",
      " [ 118  216 2563]]\n",
      "\n",
      "\n",
      "              precision    recall  f1-score   support\n",
      "\n",
      "    Negative       0.88      0.74      0.80      1539\n",
      "     Neutral       0.79      0.93      0.86      1681\n",
      "    Positive       0.90      0.88      0.89      2897\n",
      "\n",
      "    accuracy                           0.86      6117\n",
      "   macro avg       0.86      0.85      0.85      6117\n",
      "weighted avg       0.86      0.86      0.86      6117\n",
      "\n"
     ]
    }
   ],
   "source": [
    "#print the confusion matrix and classification report\n",
    "\n",
    "\n",
    "print(confusion_matrix(y_test, logreg_pred))\n",
    "print(\"\\n\")\n",
    "print(classification_report(y_test, logreg_pred))"
   ]
  },
  {
   "cell_type": "code",
   "execution_count": 45,
   "id": "e5c653be",
   "metadata": {},
   "outputs": [],
   "source": [
    "from sklearn.model_selection import GridSearchCV"
   ]
  },
  {
   "cell_type": "code",
   "execution_count": 46,
   "id": "fbf591e1",
   "metadata": {},
   "outputs": [
    {
     "data": {
      "text/plain": [
       "GridSearchCV(estimator=LogisticRegression(),\n",
       "             param_grid={'C': [0.001, 0.01, 0.1, 1, 10]})"
      ]
     },
     "execution_count": 46,
     "metadata": {},
     "output_type": "execute_result"
    }
   ],
   "source": [
    "param_grid={'C':[0.001, 0.01, 0.1, 1, 10]}\n",
    "grid = GridSearchCV(LogisticRegression(), param_grid)\n",
    "grid.fit(x_train, y_train)"
   ]
  },
  {
   "cell_type": "code",
   "execution_count": 47,
   "id": "c17a0321",
   "metadata": {},
   "outputs": [
    {
     "name": "stdout",
     "output_type": "stream",
     "text": [
      "Optimal parameters: {'C': 10}\n"
     ]
    }
   ],
   "source": [
    "print(\"Optimal parameters:\", grid.best_params_)"
   ]
  },
  {
   "cell_type": "code",
   "execution_count": 48,
   "id": "6e3805d5",
   "metadata": {},
   "outputs": [],
   "source": [
    "y_pred = grid.predict(x_test)"
   ]
  },
  {
   "cell_type": "code",
   "execution_count": 55,
   "id": "aa94acd1",
   "metadata": {},
   "outputs": [
    {
     "name": "stdout",
     "output_type": "stream",
     "text": [
      "The test accuracy is: 86.74%\n"
     ]
    }
   ],
   "source": [
    "logreg_acc = accuracy_score(y_pred, y_test)\n",
    "print(\"The test accuracy is: {:.2f}%\".format(logreg_acc*100))"
   ]
  },
  {
   "cell_type": "code",
   "execution_count": 56,
   "id": "36a85cd9",
   "metadata": {},
   "outputs": [
    {
     "name": "stdout",
     "output_type": "stream",
     "text": [
      "[[1161  180  198]\n",
      " [  41 1573   67]\n",
      " [ 117  208 2572]]\n",
      "\n",
      "\n",
      "              precision    recall  f1-score   support\n",
      "\n",
      "    Negative       0.88      0.75      0.81      1539\n",
      "     Neutral       0.80      0.94      0.86      1681\n",
      "    Positive       0.91      0.89      0.90      2897\n",
      "\n",
      "    accuracy                           0.87      6117\n",
      "   macro avg       0.86      0.86      0.86      6117\n",
      "weighted avg       0.87      0.87      0.87      6117\n",
      "\n"
     ]
    }
   ],
   "source": [
    "print(confusion_matrix(y_test, y_pred))\n",
    "print(\"\\n\")\n",
    "print(classification_report(y_test, y_pred))"
   ]
  },
  {
   "cell_type": "code",
   "execution_count": 57,
   "id": "1e328eee",
   "metadata": {},
   "outputs": [],
   "source": [
    "from sklearn.svm import LinearSVC"
   ]
  },
  {
   "cell_type": "code",
   "execution_count": 58,
   "id": "cb4c9fff",
   "metadata": {},
   "outputs": [
    {
     "data": {
      "text/plain": [
       "LinearSVC()"
      ]
     },
     "execution_count": 58,
     "metadata": {},
     "output_type": "execute_result"
    }
   ],
   "source": [
    "SVCmodel = LinearSVC()\n",
    "SVCmodel.fit(x_train, y_train)"
   ]
  },
  {
   "cell_type": "code",
   "execution_count": 59,
   "id": "b94d660f",
   "metadata": {},
   "outputs": [
    {
     "name": "stdout",
     "output_type": "stream",
     "text": [
      "The test accuracy is: 87.05%\n"
     ]
    }
   ],
   "source": [
    "svc_pred = SVCmodel.predict(x_test)\n",
    "svc_acc = accuracy_score(svc_pred, y_test)\n",
    "print(\"The test accuracy is: {:.2f}%\".format(svc_acc*100))"
   ]
  },
  {
   "cell_type": "code",
   "execution_count": 60,
   "id": "aa2d02a2",
   "metadata": {},
   "outputs": [
    {
     "name": "stdout",
     "output_type": "stream",
     "text": [
      "[[1176  176  187]\n",
      " [  39 1586   56]\n",
      " [ 120  214 2563]]\n",
      "\n",
      "\n",
      "              precision    recall  f1-score   support\n",
      "\n",
      "    Negative       0.88      0.76      0.82      1539\n",
      "     Neutral       0.80      0.94      0.87      1681\n",
      "    Positive       0.91      0.88      0.90      2897\n",
      "\n",
      "    accuracy                           0.87      6117\n",
      "   macro avg       0.87      0.86      0.86      6117\n",
      "weighted avg       0.87      0.87      0.87      6117\n",
      "\n"
     ]
    }
   ],
   "source": [
    "print(confusion_matrix(y_test, svc_pred))\n",
    "print(\"\\n\")\n",
    "print(classification_report(y_test, svc_pred))"
   ]
  },
  {
   "cell_type": "code",
   "execution_count": null,
   "id": "2ff4bf5c",
   "metadata": {},
   "outputs": [],
   "source": []
  },
  {
   "cell_type": "code",
   "execution_count": null,
   "id": "39aa9786",
   "metadata": {},
   "outputs": [],
   "source": []
  }
 ],
 "metadata": {
  "kernelspec": {
   "display_name": "Python 3 (ipykernel)",
   "language": "python",
   "name": "python3"
  },
  "language_info": {
   "codemirror_mode": {
    "name": "ipython",
    "version": 3
   },
   "file_extension": ".py",
   "mimetype": "text/x-python",
   "name": "python",
   "nbconvert_exporter": "python",
   "pygments_lexer": "ipython3",
   "version": "3.9.12"
  }
 },
 "nbformat": 4,
 "nbformat_minor": 5
}
